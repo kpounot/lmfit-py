{
 "cells": [
  {
   "cell_type": "markdown",
   "metadata": {},
   "source": [
    "# Fitting a model convolved with pseudo-Voigt to 2D neutron scattering data\n",
    "\n",
    "The data consist in a 2D array, for which the first axis correspond to scattering angle and the second axis to the energy transfer.\n",
    "\n",
    "This data corresponds to a measurement of protein cetner-of-mass diffusion and internal dynamics obtained using neutron backscattering. The model takes into account the resolution in energy of the instrument $R(q, \\omega)$, which is described by a pseudo-Voigt model.\n",
    "\n",
    "The model is expressed as:\n",
    "$$\n",
    "    S(q, \\omega) = R(q, \\omega) \\otimes \\beta \\left[ \n",
    "                   a \\mathcal{L}_{\\Gamma} + (1 - a) \\mathcal{L}_{\\gamma + \\Gamma} \\right] + bkgd\n",
    "$$\n",
    "\n",
    "where $\\mathcal{L}_{\\Gamma}$ is a Lorentzian accounting for center-of-mass diffusion, $\\mathcal{L}_{\\gamma + \\Gamma}$ accounts for internal dynamics convoluted with center-of-mass diffusion and $bkgd$ is a background term."
   ]
  },
  {
   "cell_type": "markdown",
   "metadata": {},
   "source": [
    "## Import packages"
   ]
  },
  {
   "cell_type": "code",
   "execution_count": 1,
   "metadata": {},
   "outputs": [],
   "source": [
    "import os\n",
    "\n",
    "%matplotlib widget\n",
    "import matplotlib.pyplot as plt\n",
    "from mpl_toolkits.mplot3d import Axes3D\n",
    "import matplotlib\n",
    "\n",
    "import ipywidgets as ipw\n",
    "\n",
    "import numpy as np\n",
    "\n",
    "import json\n",
    "\n",
    "import lmfit"
   ]
  },
  {
   "cell_type": "markdown",
   "metadata": {},
   "source": [
    "## Set the dataset to be fitted"
   ]
  },
  {
   "cell_type": "code",
   "execution_count": 2,
   "metadata": {},
   "outputs": [],
   "source": [
    "X = np.arange(1024) * 60/1024 - 30\n",
    "qVals = np.array([0.43594975, 0.56783502, 0.69714328,\n",
    "                  0.8232508 , 0.94556232, 1.06350556, 1.17653097, 1.28411303,\n",
    "                  1.38575216, 1.48097673, 1.56934508, 1.65044748, 1.72390798,\n",
    "                  1.7893861 , 1.84657839])\n",
    "\n",
    "# assumes the jupyter notebook was run from the 'examples' directory\n",
    "with open('2D_neutron_vanadium_data.json', 'r') as f:\n",
    "    vana = json.load(f)\n",
    "    vanaErr = np.array(vana[1]).reshape((18, 1024))[2:-1]\n",
    "    vanaData = np.array(vana[0]).reshape((18, 1024))[2:-1]\n",
    "    \n",
    "with open('2D_neutron_data.json', 'r') as f:\n",
    "    expData = json.load(f)\n",
    "    expErr = np.array(expData[1]).reshape((18, 1024))[2:-1]\n",
    "    expData = np.array(expData[0]).reshape((18, 1024))[2:-1]"
   ]
  },
  {
   "cell_type": "markdown",
   "metadata": {},
   "source": [
    "## Fit the resolution function and normalize the dataset"
   ]
  },
  {
   "cell_type": "code",
   "execution_count": 3,
   "metadata": {},
   "outputs": [],
   "source": [
    "resModel = lmfit.models.PseudoVoigtModel()\n",
    "\n",
    "resFit = []\n",
    "for idx, val in enumerate(qVals):\n",
    "    resFit.append(resModel.fit(vanaData[idx], x=X))\n",
    "    expData[idx] /= resFit[idx].best_values['amplitude']\n",
    "    expErr[idx] /= resFit[idx].best_values['amplitude']\n",
    "    \n",
    "    # set the model values to the optimized ones and fix them\n",
    "    for key, val in resFit[idx].best_values.items():\n",
    "        resModel.set_param_hint(key, value=val, vary=False)"
   ]
  },
  {
   "cell_type": "markdown",
   "metadata": {},
   "source": [
    "## Plot the experimental dataset"
   ]
  },
  {
   "cell_type": "code",
   "execution_count": 4,
   "metadata": {},
   "outputs": [
    {
     "data": {
      "application/vnd.jupyter.widget-view+json": {
       "model_id": "f6c188c3aef64f9e9e909defbbc008fb",
       "version_major": 2,
       "version_minor": 0
      },
      "text/plain": [
       "Canvas(toolbar=Toolbar(toolitems=[('Home', 'Reset original view', 'home', 'home'), ('Back', 'Back to previous …"
      ]
     },
     "metadata": {},
     "output_type": "display_data"
    }
   ],
   "source": [
    "fig, ax = plt.subplots(subplot_kw={'projection': '3d'})\n",
    "\n",
    "cmap = matplotlib.cm.get_cmap('winter')\n",
    "norm = matplotlib.colors.Normalize(vmin=qVals[0], vmax=qVals[-1])\n",
    "\n",
    "for idx, dat in enumerate(expData[::-1]):\n",
    "    ax.plot(X, dat, qVals[::-1][idx], zdir='y', c=cmap(norm(qVals[::-1][idx])))\n",
    "    \n",
    "ax.set_xlabel('$\\\\rm \\hbar \\omega ~ [\\mu eV]$')\n",
    "ax.set_ylabel('$\\\\rm q ~ [\\AA^{-1}]$')\n",
    "ax.set_zlabel('$\\\\rm S(q, \\omega)$')\n",
    "\n",
    "fig.show()"
   ]
  },
  {
   "cell_type": "markdown",
   "metadata": {},
   "source": [
    "## Set the model"
   ]
  },
  {
   "cell_type": "code",
   "execution_count": 5,
   "metadata": {},
   "outputs": [],
   "source": [
    "def lorentz(x, q, beta, a, width, bkgd):\n",
    "    return beta * a * width * q**2 / (np.pi * (x**2 + (width * q**2)**2)) + bkgd\n",
    "\n",
    "def jump_diff(x, q, beta, a, width, tau, bkgd): \n",
    "    width = width * q**2 / (1 + width * q**2 * tau)\n",
    "    return beta * a * width / (np.pi * (x**2 + width**2)) + bkgd\n",
    "\n",
    "\n",
    "model = lmfit.Model(lorentz, independent_vars=['x', 'q']) \n",
    "model = model + lmfit.Model(jump_diff, independent_vars=['x', 'q'], prefix='jd_')\n",
    "\n",
    "# set the parameters starting values and bounds\n",
    "model.set_param_hint('beta', value=1., min=0., max=np.inf)\n",
    "model.set_param_hint('a', value=0.8, min=0., max=1)\n",
    "model.set_param_hint('width', value=15, min=0.1, max=2)\n",
    "model.set_param_hint('bkgd', value=0.005, min=0., max=1)\n",
    "model.set_param_hint('jd_beta', value=1., min=0., max=np.inf, expr='beta')\n",
    "model.set_param_hint('jd_a', value=0.5, min=0., max=1, expr='1 - a')\n",
    "model.set_param_hint('jd_width', value=30, min=0.1, max=2)\n",
    "model.set_param_hint('jd_tau', value=1, min=0., max=np.inf)\n",
    "model.set_param_hint('jd_bkgd', value=0.005, min=0., max=1, expr='bkgd')"
   ]
  },
  {
   "cell_type": "markdown",
   "metadata": {},
   "source": [
    "## Set the analytic convolutions and create the convolved model"
   ]
  },
  {
   "cell_type": "code",
   "execution_count": 6,
   "metadata": {},
   "outputs": [],
   "source": [
    "from lmfit.lineshapes import voigt\n",
    "\n",
    "def conv_lorentz_pvoigt(left, right, params, **kwargs):\n",
    "    # set left to lorentzian component if not so\n",
    "    if left.func.__name__ == 'pvoigt':\n",
    "        tmp = right\n",
    "        right = left\n",
    "        left = tmp\n",
    "\n",
    "    lp = left.make_funcargs(params, kwargs)\n",
    "    rp = right.make_funcargs(params, kwargs)\n",
    "    \n",
    "    # set the q-dependent Lorentzian width\n",
    "    q = lp['q']\n",
    "    gamma = lp['width'] * q**2\n",
    "\n",
    "    amplitude = lp['a'] * lp['beta'] * rp['amplitude']\n",
    "    center = rp['center']\n",
    "    sigma_l = gamma + rp['sigma']\n",
    "    sigma_v = rp['sigma']\n",
    "    fraction = rp['fraction']\n",
    "    bkgd = lp['bkgd']\n",
    "\n",
    "    x = lp['x']\n",
    "\n",
    "    out = ((1 - fraction) * (voigt(x, amplitude, center, sigma_v, gamma) + bkgd)\n",
    "           + fraction * lorentz(x, 1, amplitude, center, sigma_l, bkgd))\n",
    "\n",
    "    return out\n",
    "\n",
    "def conv_jumpdiff_pvoigt(left, right, params, **kwargs):\n",
    "    # set left to lorentzian component if not so\n",
    "    if left.func.__name__ == 'pvoigt':\n",
    "        tmp = right\n",
    "        right = left\n",
    "        left = tmp\n",
    "\n",
    "    lp = left.make_funcargs(params, kwargs)\n",
    "    rp = right.make_funcargs(params, kwargs)\n",
    "    \n",
    "    # set the q-dependent Lorentzian width\n",
    "    q = lp['q']\n",
    "    gamma = lp['width'] * q**2 / (1 + lp['width'] * q**2 * lp['tau'])\n",
    "\n",
    "    amplitude = lp['a'] * lp['beta'] * rp['amplitude']\n",
    "    center = rp['center']\n",
    "    sigma_l = gamma + rp['sigma']\n",
    "    sigma_v = rp['sigma'] \n",
    "    fraction = rp['fraction']\n",
    "    bkgd = lp['bkgd']\n",
    "    tau = lp['tau']\n",
    "\n",
    "    x = lp['x']\n",
    "\n",
    "    out = ((1 - fraction) * (voigt(x, amplitude, center, sigma_v, gamma) + bkgd)\n",
    "           + fraction * jump_diff(x, 1, amplitude, center, sigma_l, tau, bkgd))\n",
    "\n",
    "    return out\n",
    "\n",
    "# assign the convolution functions to the components\n",
    "model.left.convolutions['pvoigt'] = conv_lorentz_pvoigt\n",
    "model.right.convolutions['pvoigt'] = conv_jumpdiff_pvoigt\n",
    "\n",
    "model._on_undefined_conv = 'raise'\n",
    "\n",
    "# create the analytically convolved model\n",
    "model = model << resModel"
   ]
  },
  {
   "cell_type": "markdown",
   "metadata": {},
   "source": [
    "## Fit the model"
   ]
  },
  {
   "cell_type": "code",
   "execution_count": 7,
   "metadata": {},
   "outputs": [],
   "source": [
    "res = []\n",
    "for idx, val in enumerate(qVals):\n",
    "    res.append(model.fit(expData[idx], x=X, q=val))"
   ]
  },
  {
   "cell_type": "markdown",
   "metadata": {},
   "source": [
    "## Plot the result"
   ]
  },
  {
   "cell_type": "code",
   "execution_count": 8,
   "metadata": {
    "scrolled": false
   },
   "outputs": [
    {
     "data": {
      "application/vnd.jupyter.widget-view+json": {
       "model_id": "ac64d5249e4c468990109a8fe03f2ea1",
       "version_major": 2,
       "version_minor": 0
      },
      "text/plain": [
       "Canvas(toolbar=Toolbar(toolitems=[('Home', 'Reset original view', 'home', 'home'), ('Back', 'Back to previous …"
      ]
     },
     "metadata": {},
     "output_type": "display_data"
    },
    {
     "data": {
      "application/vnd.jupyter.widget-view+json": {
       "model_id": "2c3f7e6609564f97b9163b4bd21418ce",
       "version_major": 2,
       "version_minor": 0
      },
      "text/plain": [
       "interactive(children=(SelectionSlider(description='$\\\\rm q~ [\\\\mathring{A}^{-1}]$', options=(0.44, 0.57, 0.7, …"
      ]
     },
     "metadata": {},
     "output_type": "display_data"
    },
    {
     "data": {
      "text/plain": [
       "<function __main__.update(index)>"
      ]
     },
     "execution_count": 8,
     "metadata": {},
     "output_type": "execute_result"
    }
   ],
   "source": [
    "qVal = ipw.SelectionSlider(\n",
    "           options=qVals.round(2),\n",
    "           value=qVals.round(2)[0],\n",
    "           continuous_update=True,\n",
    "           description='$\\\\rm q~ [\\mathring{A}^{-1}]$'\n",
    ")\n",
    "\n",
    "\n",
    "fig, ax = plt.subplots()\n",
    "ax.plot(X, expData[qVal.index], label='experimental at q=%s [$\\\\rm \\AA^{-1}$]' % qVal.value)\n",
    "ax.plot(X, res[qVal.index].best_fit, label='model')\n",
    "ax.set_yscale('log')\n",
    "ax.set_xlabel('$\\\\rm \\hbar \\omega~ [\\mu eV]$')\n",
    "ax.set_ylabel('$\\\\rm S(q, \\omega)$')\n",
    "ax.legend(frameon=False, loc='upper right')\n",
    "\n",
    "\n",
    "def update(index):\n",
    "    ax.lines[0].set_ydata(expData[qVal.index])\n",
    "    ax.lines[0].set_label('experimental at q=%s [$\\\\rm \\AA^{-1}$]' % qVal.value)\n",
    "    ax.lines[1].set_ydata(res[qVal.index].best_fit)\n",
    "    ax.legend(frameon=False, loc='upper right')\n",
    "    \n",
    "ipw.interact(update, index=qVal)\n",
    "    "
   ]
  },
  {
   "cell_type": "code",
   "execution_count": null,
   "metadata": {},
   "outputs": [],
   "source": []
  }
 ],
 "metadata": {
  "kernelspec": {
   "display_name": "Python 3",
   "language": "python",
   "name": "python3"
  },
  "language_info": {
   "codemirror_mode": {
    "name": "ipython",
    "version": 3
   },
   "file_extension": ".py",
   "mimetype": "text/x-python",
   "name": "python",
   "nbconvert_exporter": "python",
   "pygments_lexer": "ipython3",
   "version": "3.6.9"
  }
 },
 "nbformat": 4,
 "nbformat_minor": 4
}
