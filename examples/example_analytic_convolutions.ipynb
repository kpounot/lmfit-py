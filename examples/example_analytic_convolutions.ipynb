{
 "cells": [
  {
   "cell_type": "markdown",
   "metadata": {},
   "source": [
    "# Example of models that are analytically convolved"
   ]
  },
  {
   "cell_type": "markdown",
   "metadata": {},
   "source": [
    "## Import packages"
   ]
  },
  {
   "cell_type": "code",
   "execution_count": 1,
   "metadata": {},
   "outputs": [],
   "source": [
    "import os\n",
    "\n",
    "%matplotlib widget\n",
    "import matplotlib.pyplot as plt\n",
    "from mpl_toolkits.mplot3d import Axes3D\n",
    "import matplotlib\n",
    "\n",
    "import numpy as np\n",
    "\n",
    "import lmfit"
   ]
  },
  {
   "cell_type": "markdown",
   "metadata": {},
   "source": [
    "## Set the models"
   ]
  },
  {
   "cell_type": "code",
   "execution_count": 2,
   "metadata": {},
   "outputs": [],
   "source": [
    "X = np.arange(-10, 10, 0.05)\n",
    "\n",
    "lorentz = lmfit.models.LorentzianModel(prefix='l_')\n",
    "lorentz.set_param_hint('sigma', value=2)\n",
    "lorentz.convolutions['gaussian'] = lmfit.convolutions.conv_gaussian_lorentzian\n",
    "lorentz.convolutions['delta'] = lmfit.convolutions.conv_delta_lorentzian\n",
    "\n",
    "gauss = lmfit.models.GaussianModel(prefix='g_')\n",
    "gauss.set_param_hint('amplitude', value=2)\n",
    "gauss.set_param_hint('sigma', value=1)\n",
    "gauss.convolutions['lorentzian'] = lmfit.convolutions.conv_gaussian_lorentzian\n",
    "gauss.convolutions['delta'] = lmfit.convolutions.conv_delta_gaussian\n",
    "\n",
    "delt = lmfit.models.DeltaModel(prefix='d_')\n",
    "delt.set_param_hint('amplitude', value=1)\n",
    "delt.set_param_hint('center', value=-4)\n",
    "delt.convolutions['lorentzian'] = lmfit.convolutions.conv_delta_lorentzian\n",
    "delt.convolutions['gaussian'] = lmfit.convolutions.conv_delta_gaussian"
   ]
  },
  {
   "cell_type": "markdown",
   "metadata": {},
   "source": [
    "## Perform some convolutions"
   ]
  },
  {
   "cell_type": "code",
   "execution_count": 3,
   "metadata": {},
   "outputs": [],
   "source": [
    "conv_l_g = lorentz << gauss\n",
    "conv_l_d = lorentz << delt\n",
    "conv_d_g = (delt << gauss) + lmfit.Model(lambda x, c=0.05: np.zeros_like(x) + c)\n",
    "conv_ld_g = (lorentz + delt) << gauss"
   ]
  },
  {
   "cell_type": "markdown",
   "metadata": {},
   "source": [
    "## Plot the result"
   ]
  },
  {
   "cell_type": "code",
   "execution_count": 4,
   "metadata": {
    "scrolled": false
   },
   "outputs": [
    {
     "data": {
      "application/vnd.jupyter.widget-view+json": {
       "model_id": "8c52952e72c449d7a0f41d024d4ef7a9",
       "version_major": 2,
       "version_minor": 0
      },
      "text/plain": [
       "Canvas(toolbar=Toolbar(toolitems=[('Home', 'Reset original view', 'home', 'home'), ('Back', 'Back to previous …"
      ]
     },
     "metadata": {},
     "output_type": "display_data"
    },
    {
     "data": {
      "text/plain": [
       "<matplotlib.legend.Legend at 0x7f0913eca8d0>"
      ]
     },
     "execution_count": 4,
     "metadata": {},
     "output_type": "execute_result"
    }
   ],
   "source": [
    "fig, ax = plt.subplots(2, 2)\n",
    "\n",
    "ax[0, 0].plot(X, conv_l_g.eval(x=X), label='model')\n",
    "for key, comp in conv_l_g.eval_components(params=conv_l_g.make_params(), x=X).items():\n",
    "    ax[0, 0].plot(X, comp, ls=':', label=key)\n",
    "ax[0, 0].legend(frameon=False, loc='upper right')  \n",
    "\n",
    "ax[0, 1].plot(X, conv_l_d.eval(x=X), label='model')\n",
    "for key, comp in conv_l_d.eval_components(params=conv_l_d.make_params(), x=X).items():\n",
    "    ax[0, 1].plot(X, comp, ls=':', label=key)\n",
    "ax[0, 1].set_ylim(-0.01, 0.18)\n",
    "ax[0, 1].legend(frameon=False, loc='upper right')  \n",
    "\n",
    "ax[1, 0].plot(X, conv_d_g.eval(x=X), label='model')\n",
    "for key, comp in conv_d_g.eval_components(params=conv_d_g.make_params(), x=X).items():\n",
    "    ax[1, 0].plot(X, comp, ls=':', label=key)\n",
    "ax[1, 0].set_ylim(-0.01, 0.9)\n",
    "ax[1, 0].legend(frameon=False, loc='upper right')  \n",
    "\n",
    "ax[1, 1].plot(X, conv_ld_g.eval(x=X), label='model')\n",
    "for key, comp in conv_ld_g.eval_components(params=conv_ld_g.make_params(), x=X).items():\n",
    "    ax[1, 1].plot(X, comp, ls=':', label=key)\n",
    "ax[1, 1].set_ylim(-0.01, 1.1)\n",
    "ax[1, 1].legend(frameon=False, loc='upper right')  "
   ]
  }
 ],
 "metadata": {
  "kernelspec": {
   "display_name": "Python 3",
   "language": "python",
   "name": "python3"
  },
  "language_info": {
   "codemirror_mode": {
    "name": "ipython",
    "version": 3
   },
   "file_extension": ".py",
   "mimetype": "text/x-python",
   "name": "python",
   "nbconvert_exporter": "python",
   "pygments_lexer": "ipython3",
   "version": "3.6.9"
  }
 },
 "nbformat": 4,
 "nbformat_minor": 4
}
